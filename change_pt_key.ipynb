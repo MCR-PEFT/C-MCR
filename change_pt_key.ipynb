{
 "cells": [
  {
   "cell_type": "code",
   "execution_count": 2,
   "metadata": {},
   "outputs": [
    {
     "name": "stdout",
     "output_type": "stream",
     "text": [
      "odict_keys(['Head_A.mlp1.net1.0.weight', 'Head_A.mlp1.net1.0.bias', 'Head_A.mlp1.net1.1.weight', 'Head_A.mlp1.net1.1.bias', 'Head_A.mlp1.net1.1.running_mean', 'Head_A.mlp1.net1.1.running_var', 'Head_A.mlp1.net1.1.num_batches_tracked', 'Head_A.mlp1.net2.0.weight', 'Head_A.mlp1.net2.0.bias', 'Head_A.mlp1.net2.1.weight', 'Head_A.mlp1.net2.1.bias', 'Head_A.mlp1.net2.1.running_mean', 'Head_A.mlp1.net2.1.running_var', 'Head_A.mlp1.net2.1.num_batches_tracked', 'Head_B.mlp1.net1.0.weight', 'Head_B.mlp1.net1.0.bias', 'Head_B.mlp1.net1.1.weight', 'Head_B.mlp1.net1.1.bias', 'Head_B.mlp1.net1.1.running_mean', 'Head_B.mlp1.net1.1.running_var', 'Head_B.mlp1.net1.1.num_batches_tracked', 'Head_B.mlp1.net2.0.weight', 'Head_B.mlp1.net2.0.bias', 'Head_B.mlp1.net2.1.weight', 'Head_B.mlp1.net2.1.bias', 'Head_B.mlp1.net2.1.running_mean', 'Head_B.mlp1.net2.1.running_var', 'Head_B.mlp1.net2.1.num_batches_tracked'])\n"
     ]
    }
   ],
   "source": [
    "import torch\n",
    "clap_clip = './checkpoints/clap_clip_native.pt'\n",
    "clap_clip = torch.load(clap_clip, map_location='cpu')\n",
    "print(clap_clip.keys())"
   ]
  },
  {
   "cell_type": "code",
   "execution_count": 3,
   "metadata": {},
   "outputs": [
    {
     "name": "stdout",
     "output_type": "stream",
     "text": [
      "odict_keys(['Head_A.net1.0.weight', 'Head_A.net1.0.bias', 'Head_A.net1.1.weight', 'Head_A.net1.1.bias', 'Head_A.net1.1.running_mean', 'Head_A.net1.1.running_var', 'Head_A.net1.1.num_batches_tracked', 'Head_A.net2.0.weight', 'Head_A.net2.0.bias', 'Head_A.net2.1.weight', 'Head_A.net2.1.bias', 'Head_A.net2.1.running_mean', 'Head_A.net2.1.running_var', 'Head_A.net2.1.num_batches_tracked', 'Head_B.net1.0.weight', 'Head_B.net1.0.bias', 'Head_B.net1.1.weight', 'Head_B.net1.1.bias', 'Head_B.net1.1.running_mean', 'Head_B.net1.1.running_var', 'Head_B.net1.1.num_batches_tracked', 'Head_B.net2.0.weight', 'Head_B.net2.0.bias', 'Head_B.net2.1.weight', 'Head_B.net2.1.bias', 'Head_B.net2.1.running_mean', 'Head_B.net2.1.running_var', 'Head_B.net2.1.num_batches_tracked'])\n"
     ]
    }
   ],
   "source": [
    "from copy import deepcopy\n",
    "adj_pt = deepcopy(clap_clip)\n",
    "for k in list(adj_pt.keys()):\n",
    "    adj_k = k[:6] + k[11:]\n",
    "    adj_pt[adj_k] = adj_pt.pop(k)\n",
    "    \n",
    "print(adj_pt.keys())"
   ]
  },
  {
   "cell_type": "code",
   "execution_count": 4,
   "metadata": {},
   "outputs": [],
   "source": [
    "torch.save(adj_pt, './checkpoints/clap_clip.pt')"
   ]
  },
  {
   "cell_type": "code",
   "execution_count": 5,
   "metadata": {},
   "outputs": [
    {
     "name": "stdout",
     "output_type": "stream",
     "text": [
      "odict_keys(['CLIP_proj.net.0.weight', 'CLIP_proj.net.0.bias', 'CLIP_proj.net.1.weight', 'CLIP_proj.net.1.bias', 'CLIP_proj.net.1.running_mean', 'CLIP_proj.net.1.running_var', 'CLIP_proj.net.1.num_batches_tracked', 'CLAP_proj.net.0.weight', 'CLAP_proj.net.0.bias', 'CLAP_proj.net.1.weight', 'CLAP_proj.net.1.bias', 'CLAP_proj.net.1.running_mean', 'CLAP_proj.net.1.running_var', 'CLAP_proj.net.1.num_batches_tracked'])\n"
     ]
    }
   ],
   "source": [
    "import torch\n",
    "ulip_clip = './checkpoints/ulip_clip.pt'\n",
    "ulip_clip = torch.load(ulip_clip, map_location='cpu')\n",
    "print(ulip_clip.keys())"
   ]
  },
  {
   "cell_type": "code",
   "execution_count": 6,
   "metadata": {},
   "outputs": [
    {
     "name": "stdout",
     "output_type": "stream",
     "text": [
      "odict_keys(['Head_A.net.0.weight', 'Head_A.net.0.bias', 'Head_A.net.1.weight', 'Head_A.net.1.bias', 'Head_A.net.1.running_mean', 'Head_A.net.1.running_var', 'Head_A.net.1.num_batches_tracked', 'Head_B.net.0.weight', 'Head_B.net.0.bias', 'Head_B.net.1.weight', 'Head_B.net.1.bias', 'Head_B.net.1.running_mean', 'Head_B.net.1.running_var', 'Head_B.net.1.num_batches_tracked'])\n"
     ]
    }
   ],
   "source": [
    "from copy import deepcopy\n",
    "adj_pt = deepcopy(ulip_clip)\n",
    "for k in list(adj_pt.keys()):\n",
    "    if 'CLIP_proj' == k[:9]:\n",
    "        adj_k = 'Head_A' + k[9:]\n",
    "        adj_pt[adj_k] = adj_pt.pop(k)\n",
    "    \n",
    "    if 'CLAP_proj' == k[:9]:\n",
    "        adj_k = 'Head_B' + k[9:]\n",
    "        adj_pt[adj_k] = adj_pt.pop(k)\n",
    "    \n",
    "print(adj_pt.keys())"
   ]
  },
  {
   "cell_type": "code",
   "execution_count": null,
   "metadata": {},
   "outputs": [],
   "source": [
    "torch.save(adj_pt, './checkpoints/ulip_clip_adj.pt')"
   ]
  },
  {
   "cell_type": "markdown",
   "metadata": {},
   "source": [
    "tensor([-0.0531,  0.0346,  0.0672, -0.0167,  0.0574], device='cuda:3')\n",
    "tensor([ 0.0197, -0.0725, -0.0017,  0.0762, -0.0025], device='cuda:3')\n",
    "tensor([ 0.0374,  0.0330, -0.0656, -0.0490, -0.0650], device='cuda:3')"
   ]
  }
 ],
 "metadata": {
  "kernelspec": {
   "display_name": "sg3d",
   "language": "python",
   "name": "sg3d"
  },
  "language_info": {
   "codemirror_mode": {
    "name": "ipython",
    "version": 3
   },
   "file_extension": ".py",
   "mimetype": "text/x-python",
   "name": "python",
   "nbconvert_exporter": "python",
   "pygments_lexer": "ipython3",
   "version": "3.8.16"
  }
 },
 "nbformat": 4,
 "nbformat_minor": 2
}
